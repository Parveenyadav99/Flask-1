{
 "cells": [
  {
   "cell_type": "code",
   "execution_count": 1,
   "id": "c6676177",
   "metadata": {},
   "outputs": [
    {
     "data": {
      "text/plain": [
       "\"Flask is a lightweight web framework for Python that provides developers with the tools to build web applications quickly and easily. Flask is known for its simplicity, flexibility, and minimalism, making it an excellent choice for small to medium-sized projects. Some advantages of using Flask include:\\n\\nLightweight and flexible: Flask is designed to be minimalistic and lightweight, so it allows developers to choose and integrate only the components they need, which makes it very flexible.\\n\\nEasy to get started: Flask is easy to set up and start working with, even for beginners. It provides a simple yet powerful API that is easy to understand and work with.\\n\\nExtensible: Flask has a modular design that allows developers to extend and customize it according to their specific needs. This means that developers can add new functionalities to their Flask applications by integrating with other libraries or by writing their own code.\\n\\nLarge community: Flask has a large community of developers who are always willing to help and contribute to the framework. This means that developers can find plenty of resources, tutorials, and plugins to enhance their Flask projects.\\n\\nMinimalistic and unobtrusive: Flask is designed to be unobtrusive and stay out of the way of developers as much as possible. It doesn't force any particular way of doing things and allows developers to build web applications according to their preferences.\\n\\nOverall, Flask is an excellent choice for developers who want to build simple and flexible web applications quickly and easily. Its simplicity and minimalism make it an excellent choice for small to medium-sized projects.\""
      ]
     },
     "execution_count": 1,
     "metadata": {},
     "output_type": "execute_result"
    }
   ],
   "source": [
    "# Q1. What is Flask Framework? What are the advantages of Flask Framework?\n",
    "'''Flask is a lightweight web framework for Python that provides developers with the tools to build web applications quickly and easily. Flask is known for its simplicity, flexibility, and minimalism, making it an excellent choice for small to medium-sized projects. Some advantages of using Flask include:\n",
    "\n",
    "Lightweight and flexible: Flask is designed to be minimalistic and lightweight, so it allows developers to choose and integrate only the components they need, which makes it very flexible.\n",
    "\n",
    "Easy to get started: Flask is easy to set up and start working with, even for beginners. It provides a simple yet powerful API that is easy to understand and work with.\n",
    "\n",
    "Extensible: Flask has a modular design that allows developers to extend and customize it according to their specific needs. This means that developers can add new functionalities to their Flask applications by integrating with other libraries or by writing their own code.\n",
    "\n",
    "Large community: Flask has a large community of developers who are always willing to help and contribute to the framework. This means that developers can find plenty of resources, tutorials, and plugins to enhance their Flask projects.\n",
    "\n",
    "Minimalistic and unobtrusive: Flask is designed to be unobtrusive and stay out of the way of developers as much as possible. It doesn't force any particular way of doing things and allows developers to build web applications according to their preferences.\n",
    "\n",
    "Overall, Flask is an excellent choice for developers who want to build simple and flexible web applications quickly and easily. Its simplicity and minimalism make it an excellent choice for small to medium-sized projects.'''"
   ]
  },
  {
   "cell_type": "code",
   "execution_count": null,
   "id": "8815630a",
   "metadata": {},
   "outputs": [],
   "source": [
    "# Q2. Create a simple Flask application to display ‘Hello World!!’. Attach the screenshot of the output in Jupyter Notebook.\n",
    "'''To create a simple Flask application to display \"Hello World!!\", follow these steps:\n",
    "\n",
    "Install Flask: If Flask is not already installed on your system, you can install it using the following command in a terminal or command prompt:\n",
    "\n",
    "Copy code\n",
    "pip install flask\n",
    "Create a new Python file: Create a new Python file named app.py in your preferred directory.\n",
    "\n",
    "Import Flask: In your app.py file, import the Flask module as follows:\n",
    "\n",
    "python\n",
    "Copy code\n",
    "from flask import Flask\n",
    "Create a Flask application: Create a new Flask application using the Flask class, as follows:\n",
    "\n",
    "scss\n",
    "Copy code\n",
    "app = Flask(__name__)\n",
    "Define a route: Define a route for the application using the @app.route() decorator, as follows:\n",
    "\n",
    "python\n",
    "Copy code\n",
    "@app.route('/')\n",
    "def hello_world():\n",
    "    return 'Hello World!!'\n",
    "Run the application: Finally, run the application using the app.run() method, as follows:\n",
    "\n",
    "markdown\n",
    "Copy code\n",
    "if __name__ == '__main__':\n",
    "    app.run()\n",
    "Here is the full code for the app.py file:\n",
    "\n",
    "python\n",
    "Copy code\n",
    "from flask import Flask\n",
    "\n",
    "app = Flask(__name__)\n",
    "\n",
    "@app.route('/')\n",
    "def hello_world():\n",
    "    return 'Hello World!!'\n",
    "\n",
    "if __name__ == '__main__':\n",
    "    app.run()\n",
    "To run the application, open a terminal or command prompt, navigate to the directory where the app.py file is located, and enter the following command:\n",
    "\n",
    "Copy code\n",
    "python app.py\n",
    "This should start the Flask application. You can then open a web browser and go to http://127.0.0.1:5000/ to see the \"Hello World!!\" message displayed.\n",
    "\n",
    "Here is a screenshot of the output in Jupyter Notebook:'''"
   ]
  },
  {
   "cell_type": "code",
   "execution_count": 2,
   "id": "4d9bec64",
   "metadata": {},
   "outputs": [
    {
     "data": {
      "text/plain": [
       "'In Flask, app routing refers to the mechanism by which incoming requests are mapped to the appropriate view function based on the requested URL. This is done using the @app.route() decorator, which allows developers to specify the URL pattern that should trigger the view function.'"
      ]
     },
     "execution_count": 2,
     "metadata": {},
     "output_type": "execute_result"
    }
   ],
   "source": [
    "# Q3. What is App routing in Flask? Why do we use app routes?\n",
    "'''In Flask, app routing refers to the mechanism by which incoming requests are mapped to the appropriate view function based on the requested URL. This is done using the @app.route() decorator, which allows developers to specify the URL pattern that should trigger the view function.'''"
   ]
  },
  {
   "cell_type": "code",
   "execution_count": 3,
   "id": "7482896b",
   "metadata": {},
   "outputs": [],
   "source": [
    "from flask import Flask\n",
    "\n",
    "app = Flask(__name__)\n",
    "\n",
    "@app.route('/')\n",
    "def index():\n",
    "    return 'This is the homepage'\n",
    "\n",
    "@app.route('/about')\n",
    "def about():\n",
    "    return 'This is the about page'\n"
   ]
  },
  {
   "cell_type": "code",
   "execution_count": 4,
   "id": "7ef3644b",
   "metadata": {},
   "outputs": [
    {
     "data": {
      "text/plain": [
       "\"In Flask, app routing refers to the mechanism by which incoming requests are mapped to the appropriate view function based on the requested URL. This is done using the @app.route() decorator, which allows developers to specify the URL pattern that should trigger the view function.\\n\\nFor example, consider the following code snippet:\\n\\npython\\nCopy code\\nfrom flask import Flask\\n\\napp = Flask(__name__)\\n\\n@app.route('/')\\ndef index():\\n    return 'This is the homepage'\\n\\n@app.route('/about')\\ndef about():\\n    return 'This is the about page'\\nIn this example, we have defined two view functions: index() and about(). The @app.route() decorator is used to specify the URL pattern that should trigger each view function. In this case, the index() function is triggered when the user navigates to the root URL (/), while the about() function is triggered when the user navigates to the /about URL.\\n\\nApp routing is an essential feature of Flask because it allows developers to define the behavior of their web application based on the URL requested by the user. By using app routing, developers can create multiple views for different URLs, each of which can return different content, perform different actions, or interact with different parts of the application.\\n\\nSome of the reasons why we use app routing in Flask include:\\n\\nHandling multiple URLs: App routing allows developers to handle multiple URLs in their application, each with their own view function and behavior.\\n\\nCreating RESTful APIs: App routing is essential for creating RESTful APIs, where different URLs correspond to different API endpoints, each with its own functionality.\\n\\nCustomizing behavior: App routing allows developers to customize the behavior of their application based on the requested URL, such as showing different content, performing different actions, or interacting with different parts of the application.\\n\\nOverall, app routing is an essential feature of Flask that allows developers to create flexible and customizable web applications that can handle different URLs and perform different tasks based on the requested URL.\""
      ]
     },
     "execution_count": 4,
     "metadata": {},
     "output_type": "execute_result"
    }
   ],
   "source": [
    "'''In Flask, app routing refers to the mechanism by which incoming requests are mapped to the appropriate view function based on the requested URL. This is done using the @app.route() decorator, which allows developers to specify the URL pattern that should trigger the view function.\n",
    "\n",
    "For example, consider the following code snippet:\n",
    "\n",
    "python\n",
    "Copy code\n",
    "from flask import Flask\n",
    "\n",
    "app = Flask(__name__)\n",
    "\n",
    "@app.route('/')\n",
    "def index():\n",
    "    return 'This is the homepage'\n",
    "\n",
    "@app.route('/about')\n",
    "def about():\n",
    "    return 'This is the about page'\n",
    "In this example, we have defined two view functions: index() and about(). The @app.route() decorator is used to specify the URL pattern that should trigger each view function. In this case, the index() function is triggered when the user navigates to the root URL (/), while the about() function is triggered when the user navigates to the /about URL.\n",
    "\n",
    "App routing is an essential feature of Flask because it allows developers to define the behavior of their web application based on the URL requested by the user. By using app routing, developers can create multiple views for different URLs, each of which can return different content, perform different actions, or interact with different parts of the application.\n",
    "\n",
    "Some of the reasons why we use app routing in Flask include:\n",
    "\n",
    "Handling multiple URLs: App routing allows developers to handle multiple URLs in their application, each with their own view function and behavior.\n",
    "\n",
    "Creating RESTful APIs: App routing is essential for creating RESTful APIs, where different URLs correspond to different API endpoints, each with its own functionality.\n",
    "\n",
    "Customizing behavior: App routing allows developers to customize the behavior of their application based on the requested URL, such as showing different content, performing different actions, or interacting with different parts of the application.\n",
    "\n",
    "Overall, app routing is an essential feature of Flask that allows developers to create flexible and customizable web applications that can handle different URLs and perform different tasks based on the requested URL.'''"
   ]
  },
  {
   "cell_type": "code",
   "execution_count": 5,
   "id": "ca618d4c",
   "metadata": {},
   "outputs": [],
   "source": [
    "# Q4. Create a “/welcome” route to display the welcome message “Welcome to ABC Corporation” and a “/”\n",
    "#   route to show the following details:\n",
    "#   Company Name: ABC Corporation\n",
    "#    Location: India\n",
    "#     Contact Detail: 999-999-9999\n",
    "#     Attach the screenshot of the output in Jupyter Notebook.\n"
   ]
  },
  {
   "cell_type": "code",
   "execution_count": null,
   "id": "32452c76",
   "metadata": {},
   "outputs": [
    {
     "name": "stdout",
     "output_type": "stream",
     "text": [
      " * Serving Flask app \"__main__\" (lazy loading)\n",
      " * Environment: production\n",
      "\u001b[31m   WARNING: This is a development server. Do not use it in a production deployment.\u001b[0m\n",
      "\u001b[2m   Use a production WSGI server instead.\u001b[0m\n",
      " * Debug mode: off\n"
     ]
    },
    {
     "name": "stderr",
     "output_type": "stream",
     "text": [
      " * Running on http://127.0.0.1:5000/ (Press CTRL+C to quit)\n",
      "127.0.0.1 - - [21/Feb/2023 19:14:34] \"GET / HTTP/1.1\" 200 -\n",
      "127.0.0.1 - - [21/Feb/2023 19:14:34] \"GET /favicon.ico HTTP/1.1\" 404 -\n"
     ]
    }
   ],
   "source": [
    "from flask import Flask\n",
    "\n",
    "app = Flask(__name__)\n",
    "\n",
    "@app.route('/welcome')\n",
    "def welcome():\n",
    "    return 'Welcome to ABC Corporation'\n",
    "\n",
    "@app.route('/')\n",
    "def details():\n",
    "    return 'Company Name: ABC Corporation<br>Location: India<br>Contact Detail: 999-999-9999'\n",
    "\n",
    "if __name__ == '__main__':\n",
    "    app.run()\n"
   ]
  },
  {
   "cell_type": "code",
   "execution_count": 3,
   "id": "fc1de25b",
   "metadata": {},
   "outputs": [
    {
     "data": {
      "text/plain": [
       "\"In the above code, we have defined four different routes: '/' for the homepage, '/about' for the about page, '/contact' for the contact page and '/user/<username>' for the user page. We have also defined a function for each of these routes.\\n\\nThe url_for() function is then used to generate the URLs for these endpoints. In the with app.test_request_context() block, we have printed the URLs for the four endpoints using the function url_for().\\n\\nA real-life example of url_for() function can be seen in a website where there are multiple pages with different URLs. For example, a shopping website can have different pages for different categories of products. Using url_for() function, we can generate URLs for each of these pages dynamically and display them on the website. This can help in improving the user experience and making the website more interactive.\""
      ]
     },
     "execution_count": 3,
     "metadata": {},
     "output_type": "execute_result"
    }
   ],
   "source": [
    "# Q5. What function is used in Flask for URL Building? Write a Python code to demonstrate the working of the url_for() function.\n",
    "'''The url_for() function is used in Flask for URL building. It is a Flask function that is used to generate a URL to a specific function. It takes the name of the function as the first argument and any number of keyword arguments. The keyword arguments represent the variable parts of the URL.\n",
    "\n",
    "Here's an example of how to use the url_for() function in Flask:'''\n",
    "\n",
    "\n",
    "\n",
    "'''In the above code, we have defined four different routes: '/' for the homepage, '/about' for the about page, '/contact' for the contact page and '/user/<username>' for the user page. We have also defined a function for each of these routes.\n",
    "\n",
    "The url_for() function is then used to generate the URLs for these endpoints. In the with app.test_request_context() block, we have printed the URLs for the four endpoints using the function url_for().\n",
    "\n",
    "A real-life example of url_for() function can be seen in a website where there are multiple pages with different URLs. For example, a shopping website can have different pages for different categories of products. Using url_for() function, we can generate URLs for each of these pages dynamically and display them on the website. This can help in improving the user experience and making the website more interactive.'''\n"
   ]
  },
  {
   "cell_type": "code",
   "execution_count": 1,
   "id": "7d7140c2",
   "metadata": {},
   "outputs": [
    {
     "name": "stdout",
     "output_type": "stream",
     "text": [
      "/\n",
      "/about\n",
      "/contact\n",
      "/user/John\n"
     ]
    }
   ],
   "source": [
    "from flask import Flask, url_for\n",
    "\n",
    "app = Flask(__name__)\n",
    "\n",
    "@app.route('/')\n",
    "def index():\n",
    "    return 'Welcome to the homepage'\n",
    "\n",
    "@app.route('/about')\n",
    "def about():\n",
    "    return 'This is the about page'\n",
    "\n",
    "@app.route('/contact')\n",
    "def contact():\n",
    "    return 'This is the contact page'\n",
    "\n",
    "@app.route('/user/<username>')\n",
    "def user(username):\n",
    "    return f'Hello, {username}'\n",
    "\n",
    "if __name__ == '__main__':\n",
    "    with app.test_request_context():\n",
    "        print(url_for('index'))\n",
    "        print(url_for('about'))\n",
    "        print(url_for('contact'))\n",
    "        print(url_for('user', username='John'))\n"
   ]
  },
  {
   "cell_type": "code",
   "execution_count": null,
   "id": "994c34da",
   "metadata": {},
   "outputs": [],
   "source": []
  }
 ],
 "metadata": {
  "kernelspec": {
   "display_name": "Python 3 (ipykernel)",
   "language": "python",
   "name": "python3"
  },
  "language_info": {
   "codemirror_mode": {
    "name": "ipython",
    "version": 3
   },
   "file_extension": ".py",
   "mimetype": "text/x-python",
   "name": "python",
   "nbconvert_exporter": "python",
   "pygments_lexer": "ipython3",
   "version": "3.9.7"
  }
 },
 "nbformat": 4,
 "nbformat_minor": 5
}
